{
 "cells": [
  {
   "cell_type": "markdown",
   "metadata": {},
   "source": [
    "# Scipy Stats Jupter notebook"
   ]
  },
  {
   "cell_type": "markdown",
   "metadata": {},
   "source": [
    "#### Scipy stats is a module contained within the scipy python package [1]. This sub package is used to carry out statistical analysis of datasets in a quick easy to use manner. This module consists of a library of Statistical functions, along with an ever growing library of statistical functions."
   ]
  },
  {
   "cell_type": "markdown",
   "metadata": {},
   "source": [
    "#### One of these distributions provided by scipy.stats is the Normal Continous Random Variable. This distribution is one in which a random variable X can take any value an example of the Normal Continous Random Variable can be seen below."
   ]
  },
  {
   "cell_type": "code",
   "execution_count": 1,
   "metadata": {},
   "outputs": [
    {
     "name": "stdout",
     "output_type": "stream",
     "text": [
      "[0.84134475 0.15865525 0.5        0.84134475 0.97724987 0.9986501\n",
      " 0.99996833]\n"
     ]
    }
   ],
   "source": [
    "#I first import the distribution from the scipy.stats package.\n",
    "from scipy.stats import norm\n",
    "# I then import numpy.\n",
    "import numpy as np\n",
    "#I now generate an array of numbers using the norm.cdf function.\n",
    "print (norm.cdf(np.array([1,-1.,0,1,2,3,4])))"
   ]
  },
  {
   "cell_type": "code",
   "execution_count": 2,
   "metadata": {},
   "outputs": [
    {
     "name": "stdout",
     "output_type": "stream",
     "text": [
      "0.0\n"
     ]
    }
   ],
   "source": [
    "print (norm.ppf(0.5))"
   ]
  },
  {
   "cell_type": "code",
   "execution_count": null,
   "metadata": {},
   "outputs": [],
   "source": []
  },
  {
   "cell_type": "code",
   "execution_count": null,
   "metadata": {},
   "outputs": [],
   "source": []
  },
  {
   "cell_type": "code",
   "execution_count": null,
   "metadata": {},
   "outputs": [],
   "source": []
  },
  {
   "cell_type": "markdown",
   "metadata": {},
   "source": [
    "## ANOVA"
   ]
  },
  {
   "cell_type": "markdown",
   "metadata": {},
   "source": [
    "#### Anova stands for analysis of variance and is a method used in statistical analysis to test 3 or more groups for mean differences of continueous response variables [2]. There are two types of ANOVA, these are one-way ANOVA and two-way ANOVA. One-way ANOVA. A one-way ANOVA is used to compare a single dependant variable with a single independant variable also known a a category. A two-way ANOVA is used to compare a single dependant variable with 2 and more independant variables."
   ]
  },
  {
   "cell_type": "markdown",
   "metadata": {},
   "source": [
    "***\n",
    "#### One-way ANOVA\n",
    "\n",
    "\n"
   ]
  },
  {
   "cell_type": "markdown",
   "metadata": {},
   "source": [
    "#### In order to carry out a one-way ANOVA there are 6 assumptions that must be met in order to ensure that the data is suitable for this type of test. The 6 assumptions are:\n",
    "\n",
    "#### 1) The dependant variable must be measured at the interval level meaning they are continueous.\n",
    "#### 2) The independant variable must conpose of more than 1 groups.\n",
    "#### 3) There should be 'independance of observations' which means that the observations should not be related to the group or      there should be no relationship between the groups.\n",
    "#### 4) There should be no outliers. This is data that deviates greatly from the mean and do not follow any particular pattern.\n",
    "#### 5) The dependant variable must be 'normally distributed' for each category of the independant variable. We will use a Shapiro-Wilk to test for this.\n",
    "#### 6) There most be homogeneity of variances. This can be determined by carrying out the Levenes test for homogeneity of variance. [3] "
   ]
  },
  {
   "cell_type": "code",
   "execution_count": 3,
   "metadata": {},
   "outputs": [
    {
     "data": {
      "text/html": [
       "<div>\n",
       "<style scoped>\n",
       "    .dataframe tbody tr th:only-of-type {\n",
       "        vertical-align: middle;\n",
       "    }\n",
       "\n",
       "    .dataframe tbody tr th {\n",
       "        vertical-align: top;\n",
       "    }\n",
       "\n",
       "    .dataframe thead th {\n",
       "        text-align: right;\n",
       "    }\n",
       "</style>\n",
       "<table border=\"1\" class=\"dataframe\">\n",
       "  <thead>\n",
       "    <tr style=\"text-align: right;\">\n",
       "      <th></th>\n",
       "      <th>Person</th>\n",
       "      <th>gender</th>\n",
       "      <th>Age</th>\n",
       "      <th>Height</th>\n",
       "      <th>pre.weight</th>\n",
       "      <th>Diet</th>\n",
       "      <th>weight6weeks</th>\n",
       "      <th>weightloss6weeks</th>\n",
       "    </tr>\n",
       "  </thead>\n",
       "  <tbody>\n",
       "    <tr>\n",
       "      <td>0</td>\n",
       "      <td>25</td>\n",
       "      <td>1</td>\n",
       "      <td>41</td>\n",
       "      <td>171</td>\n",
       "      <td>60</td>\n",
       "      <td>2</td>\n",
       "      <td>60.0</td>\n",
       "      <td>0.0</td>\n",
       "    </tr>\n",
       "    <tr>\n",
       "      <td>1</td>\n",
       "      <td>26</td>\n",
       "      <td>1</td>\n",
       "      <td>32</td>\n",
       "      <td>174</td>\n",
       "      <td>103</td>\n",
       "      <td>2</td>\n",
       "      <td>103.0</td>\n",
       "      <td>0.0</td>\n",
       "    </tr>\n",
       "    <tr>\n",
       "      <td>2</td>\n",
       "      <td>1</td>\n",
       "      <td>0</td>\n",
       "      <td>22</td>\n",
       "      <td>159</td>\n",
       "      <td>58</td>\n",
       "      <td>1</td>\n",
       "      <td>54.2</td>\n",
       "      <td>3.8</td>\n",
       "    </tr>\n",
       "    <tr>\n",
       "      <td>3</td>\n",
       "      <td>2</td>\n",
       "      <td>0</td>\n",
       "      <td>46</td>\n",
       "      <td>192</td>\n",
       "      <td>60</td>\n",
       "      <td>1</td>\n",
       "      <td>54.0</td>\n",
       "      <td>6.0</td>\n",
       "    </tr>\n",
       "    <tr>\n",
       "      <td>4</td>\n",
       "      <td>3</td>\n",
       "      <td>0</td>\n",
       "      <td>55</td>\n",
       "      <td>170</td>\n",
       "      <td>64</td>\n",
       "      <td>1</td>\n",
       "      <td>63.3</td>\n",
       "      <td>0.7</td>\n",
       "    </tr>\n",
       "    <tr>\n",
       "      <td>...</td>\n",
       "      <td>...</td>\n",
       "      <td>...</td>\n",
       "      <td>...</td>\n",
       "      <td>...</td>\n",
       "      <td>...</td>\n",
       "      <td>...</td>\n",
       "      <td>...</td>\n",
       "      <td>...</td>\n",
       "    </tr>\n",
       "    <tr>\n",
       "      <td>73</td>\n",
       "      <td>74</td>\n",
       "      <td>1</td>\n",
       "      <td>35</td>\n",
       "      <td>183</td>\n",
       "      <td>83</td>\n",
       "      <td>3</td>\n",
       "      <td>80.2</td>\n",
       "      <td>2.8</td>\n",
       "    </tr>\n",
       "    <tr>\n",
       "      <td>74</td>\n",
       "      <td>75</td>\n",
       "      <td>1</td>\n",
       "      <td>49</td>\n",
       "      <td>177</td>\n",
       "      <td>84</td>\n",
       "      <td>3</td>\n",
       "      <td>79.9</td>\n",
       "      <td>4.1</td>\n",
       "    </tr>\n",
       "    <tr>\n",
       "      <td>75</td>\n",
       "      <td>76</td>\n",
       "      <td>1</td>\n",
       "      <td>28</td>\n",
       "      <td>164</td>\n",
       "      <td>85</td>\n",
       "      <td>3</td>\n",
       "      <td>79.7</td>\n",
       "      <td>5.3</td>\n",
       "    </tr>\n",
       "    <tr>\n",
       "      <td>76</td>\n",
       "      <td>77</td>\n",
       "      <td>1</td>\n",
       "      <td>40</td>\n",
       "      <td>167</td>\n",
       "      <td>87</td>\n",
       "      <td>3</td>\n",
       "      <td>77.8</td>\n",
       "      <td>9.2</td>\n",
       "    </tr>\n",
       "    <tr>\n",
       "      <td>77</td>\n",
       "      <td>78</td>\n",
       "      <td>1</td>\n",
       "      <td>51</td>\n",
       "      <td>175</td>\n",
       "      <td>88</td>\n",
       "      <td>3</td>\n",
       "      <td>81.9</td>\n",
       "      <td>6.1</td>\n",
       "    </tr>\n",
       "  </tbody>\n",
       "</table>\n",
       "<p>78 rows × 8 columns</p>\n",
       "</div>"
      ],
      "text/plain": [
       "    Person  gender  Age  Height  pre.weight  Diet  weight6weeks  \\\n",
       "0       25       1   41     171          60     2          60.0   \n",
       "1       26       1   32     174         103     2         103.0   \n",
       "2        1       0   22     159          58     1          54.2   \n",
       "3        2       0   46     192          60     1          54.0   \n",
       "4        3       0   55     170          64     1          63.3   \n",
       "..     ...     ...  ...     ...         ...   ...           ...   \n",
       "73      74       1   35     183          83     3          80.2   \n",
       "74      75       1   49     177          84     3          79.9   \n",
       "75      76       1   28     164          85     3          79.7   \n",
       "76      77       1   40     167          87     3          77.8   \n",
       "77      78       1   51     175          88     3          81.9   \n",
       "\n",
       "    weightloss6weeks  \n",
       "0                0.0  \n",
       "1                0.0  \n",
       "2                3.8  \n",
       "3                6.0  \n",
       "4                0.7  \n",
       "..               ...  \n",
       "73               2.8  \n",
       "74               4.1  \n",
       "75               5.3  \n",
       "76               9.2  \n",
       "77               6.1  \n",
       "\n",
       "[78 rows x 8 columns]"
      ]
     },
     "execution_count": 3,
     "metadata": {},
     "output_type": "execute_result"
    }
   ],
   "source": [
    "# I start by importing the necessary python packages to carry out the One-way ANOVA.\n",
    "%matplotlib inline\n",
    "import pandas as pd\n",
    "\n",
    "# I then load the dataset I will be using to demonstrate the ANOVA method.\n",
    "df = pd.read_csv(\"data/Diet.csv\")\n",
    "df\n",
    "# I will now change the Diet column to a string to make it easier to use later.\n"
   ]
  },
  {
   "cell_type": "markdown",
   "metadata": {},
   "source": [
    "#### The above dataset is an analysis of the results that people obtain after a period of 6 weeks on 3 different types of diet. This dataset fufills the necessary requirements outlined in the first four assumptions of the one-way ANOVA test. For the above dataset I am going to use one-way ANOVA to determine which diet was better for weightloss. In this instance the dependant variable is the weightloss6weeks and the independant variable is the Diet. I now determine whether the above data is suitable for a one-way ANOVA based on assumption 4. I will determine whether or not there are any outliers in the variable I will be investigating. I will do this using a boxplot."
   ]
  },
  {
   "cell_type": "code",
   "execution_count": 4,
   "metadata": {},
   "outputs": [],
   "source": [
    "# I first select the column I will be working it and give it the variable name 'dependant'.\n",
    "dependant = df[\"weightloss6weeks\"]\n",
    "independant = df[\"Diet\"].astype('category')\n",
    "\n",
    "# I will now change the Diet column to a category to allow me to show the boxplot below for all 3 diets\n",
    "\n"
   ]
  },
  {
   "cell_type": "code",
   "execution_count": 5,
   "metadata": {},
   "outputs": [
    {
     "data": {
      "text/plain": [
       "<matplotlib.axes._subplots.AxesSubplot at 0x1f17eb09d48>"
      ]
     },
     "execution_count": 5,
     "metadata": {},
     "output_type": "execute_result"
    },
    {
     "data": {
      "image/png": "[encoded data removed]",
      "text/plain": [
       "<Figure size 432x288 with 1 Axes>"
      ]
     },
     "metadata": {
      "needs_background": "light"
     },
     "output_type": "display_data"
    }
   ],
   "source": [
    "# I will then import seaborn in order to generate a boxplot.\n",
    "import seaborn as sns\n",
    "# I call the command to generate the boxplot.\n",
    "sns.boxplot(dependant)"
   ]
  },
  {
   "cell_type": "markdown",
   "metadata": {},
   "source": [
    "#### As can be seen from the above boxplot, there are no outliers within the dependant variable weightloss6weeks. I will now separate the weightloss6weeks into the 3 diet groups to check for outliers."
   ]
  },
  {
   "cell_type": "code",
   "execution_count": 6,
   "metadata": {},
   "outputs": [
    {
     "data": {
      "text/plain": [
       "<matplotlib.axes._subplots.AxesSubplot at 0x1f17fba0c48>"
      ]
     },
     "execution_count": 6,
     "metadata": {},
     "output_type": "execute_result"
    },
    {
     "data": {
      "image/png": "[encoded data removed]",
      "text/plain": [
       "<Figure size 432x288 with 1 Axes>"
      ]
     },
     "metadata": {
      "needs_background": "light"
     },
     "output_type": "display_data"
    }
   ],
   "source": [
    "# This time I will plot both the dependant and independant variables. This should produce 3 boxplot, each one representing\n",
    "# a diet\n",
    "sns.boxplot(dependant, independant)"
   ]
  },
  {
   "cell_type": "markdown",
   "metadata": {},
   "source": [
    "#### As can be seen from the above plot there are two outliers in relation to diet 1. Due to the nature of this dataset it is likely that these outliers are genuine as there are much more factors involved in weightloss that vary between individuals then only the factors explored in this dataset for example food intolerances, individuals metabolism and activity level."
   ]
  },
  {
   "cell_type": "markdown",
   "metadata": {},
   "source": [
    "#### The next thing I am going to do is check for assumption 5 being present in the dataset. In order to do this I will run a Shapiro-Wilk to ensure that my dependant variable weightloss6weeks is normally distributed. Prior to doing this I will plot a distribution plot again using the seaborn library to get a visual idea as to whether or not the depentant variable is of normal distribution."
   ]
  },
  {
   "cell_type": "code",
   "execution_count": 14,
   "metadata": {},
   "outputs": [
    {
     "ename": "AttributeError",
     "evalue": "module 'seaborn' has no attribute 'displot'",
     "output_type": "error",
     "traceback": [
      "\u001b[1;31m---------------------------------------------------------------------------\u001b[0m",
      "\u001b[1;31mAttributeError\u001b[0m                            Traceback (most recent call last)",
      "\u001b[1;32m<ipython-input-14-feea13068770>\u001b[0m in \u001b[0;36m<module>\u001b[1;34m\u001b[0m\n\u001b[1;32m----> 1\u001b[1;33m \u001b[0msns\u001b[0m\u001b[1;33m.\u001b[0m\u001b[0mdisplot\u001b[0m\u001b[1;33m(\u001b[0m\u001b[0mdependant\u001b[0m\u001b[1;33m,\u001b[0m \u001b[0mhue\u001b[0m\u001b[1;33m=\u001b[0m\u001b[1;34m\"Diet\"\u001b[0m\u001b[1;33m)\u001b[0m\u001b[1;33m\u001b[0m\u001b[1;33m\u001b[0m\u001b[0m\n\u001b[0m",
      "\u001b[1;31mAttributeError\u001b[0m: module 'seaborn' has no attribute 'displot'"
     ]
    }
   ],
   "source": [
    "sns.displot(dependant, hue=\"Diet\")"
   ]
  }
 ],
 "metadata": {
  "kernelspec": {
   "display_name": "Python 3",
   "language": "python",
   "name": "python3"
  },
  "language_info": {
   "codemirror_mode": {
    "name": "ipython",
    "version": 3
   },
   "file_extension": ".py",
   "mimetype": "text/x-python",
   "name": "python",
   "nbconvert_exporter": "python",
   "pygments_lexer": "ipython3",
   "version": "3.7.4"
  }
 },
 "nbformat": 4,
 "nbformat_minor": 2
}
